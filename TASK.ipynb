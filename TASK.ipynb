{
 "cells": [
  {
   "cell_type": "code",
   "execution_count": 1,
   "id": "aad592fb-0dcc-43a2-97bf-9609787630dd",
   "metadata": {},
   "outputs": [
    {
     "name": "stdout",
     "output_type": "stream",
     "text": [
      "50\n"
     ]
    }
   ],
   "source": [
    " print(50)"
   ]
  },
  {
   "cell_type": "code",
   "execution_count": 2,
   "id": "47556382-8c62-45eb-9651-ff90c3611446",
   "metadata": {},
   "outputs": [
    {
     "name": "stdout",
     "output_type": "stream",
     "text": [
      "subham\n"
     ]
    }
   ],
   "source": [
    "print('subham')"
   ]
  },
  {
   "cell_type": "code",
   "execution_count": 3,
   "id": "b4fb179e-5735-44c6-a7e4-404587ccb7d6",
   "metadata": {},
   "outputs": [
    {
     "name": "stdout",
     "output_type": "stream",
     "text": [
      "subham panda250\n"
     ]
    }
   ],
   "source": [
    "print(\"subham panda250\")"
   ]
  },
  {
   "cell_type": "code",
   "execution_count": 4,
   "id": "ff24e1d0-eef8-4cd1-87c5-573c9f47cadf",
   "metadata": {},
   "outputs": [
    {
     "name": "stdout",
     "output_type": "stream",
     "text": [
      "80\n"
     ]
    }
   ],
   "source": [
    "a=80\n",
    "print(a)"
   ]
  },
  {
   "cell_type": "code",
   "execution_count": 5,
   "id": "521d54bc-0109-4443-9ebe-281d23da739d",
   "metadata": {},
   "outputs": [
    {
     "name": "stdout",
     "output_type": "stream",
     "text": [
      "20\n"
     ]
    }
   ],
   "source": [
    "subha=20\n",
    "print(subha)"
   ]
  },
  {
   "cell_type": "code",
   "execution_count": 6,
   "id": "fe1cba5e-d46b-4dc3-b68b-38d3956ff60e",
   "metadata": {},
   "outputs": [
    {
     "name": "stdout",
     "output_type": "stream",
     "text": [
      "subha\n"
     ]
    }
   ],
   "source": [
    "print(\"subha\")"
   ]
  },
  {
   "cell_type": "code",
   "execution_count": 7,
   "id": "72122d6d-5f5f-4530-beaa-4f1e73d0bc8a",
   "metadata": {},
   "outputs": [
    {
     "name": "stdout",
     "output_type": "stream",
     "text": [
      "3 45 44 22\n"
     ]
    }
   ],
   "source": [
    "a=3\n",
    "b=45\n",
    "c=44\n",
    "d=22\n",
    "print(a,b,c,d)"
   ]
  },
  {
   "cell_type": "code",
   "execution_count": 8,
   "id": "2b786b4c-3fdb-4092-a2c8-c10020530d62",
   "metadata": {},
   "outputs": [
    {
     "name": "stdout",
     "output_type": "stream",
     "text": [
      "5\n"
     ]
    },
    {
     "data": {
      "text/plain": [
       "int"
      ]
     },
     "execution_count": 8,
     "metadata": {},
     "output_type": "execute_result"
    }
   ],
   "source": [
    "a=5\n",
    "print(a)\n",
    "type(a)"
   ]
  },
  {
   "cell_type": "code",
   "execution_count": 9,
   "id": "cc56495d-a0e1-4163-8f62-97fa8523f947",
   "metadata": {},
   "outputs": [
    {
     "name": "stdout",
     "output_type": "stream",
     "text": [
      "5\n"
     ]
    },
    {
     "data": {
      "text/plain": [
       "str"
      ]
     },
     "execution_count": 9,
     "metadata": {},
     "output_type": "execute_result"
    }
   ],
   "source": [
    "a='5'\n",
    "print(a)\n",
    "type(a)"
   ]
  },
  {
   "cell_type": "code",
   "execution_count": 10,
   "id": "f3a2ddf0-ceb9-498f-8535-e4dffc0d1e36",
   "metadata": {},
   "outputs": [
    {
     "name": "stdout",
     "output_type": "stream",
     "text": [
      "70\n"
     ]
    }
   ],
   "source": [
    "a=30\n",
    "b=40\n",
    "c=a+b\n",
    "print(c)"
   ]
  },
  {
   "cell_type": "code",
   "execution_count": 11,
   "id": "9f1c9955-641d-4619-89de-d0268c2c1312",
   "metadata": {},
   "outputs": [
    {
     "name": "stdout",
     "output_type": "stream",
     "text": [
      "70\n"
     ]
    }
   ],
   "source": [
    "print(30+40)"
   ]
  },
  {
   "cell_type": "code",
   "execution_count": 12,
   "id": "621c6289-a696-441b-ae44-88ec2aa54969",
   "metadata": {},
   "outputs": [
    {
     "name": "stdout",
     "output_type": "stream",
     "text": [
      "10:3:56:55\n"
     ]
    }
   ],
   "source": [
    "a=10\n",
    "b=3 \n",
    "c=56\n",
    "d=55\n",
    "print(a,b,c,d,sep=\":\")"
   ]
  },
  {
   "cell_type": "code",
   "execution_count": 13,
   "id": "2fecb122-2a2d-43b4-94b2-5b639fb503ff",
   "metadata": {},
   "outputs": [
    {
     "name": "stdout",
     "output_type": "stream",
     "text": [
      "the value of a is :  5\n"
     ]
    }
   ],
   "source": [
    "a=5\n",
    "print('the value of a is : ',a)"
   ]
  },
  {
   "cell_type": "code",
   "execution_count": 14,
   "id": "d81f0cc0-f253-4f2e-a004-9541bfef8b3c",
   "metadata": {},
   "outputs": [
    {
     "name": "stdout",
     "output_type": "stream",
     "text": [
      "NAME   Panda Subham\n"
     ]
    }
   ],
   "source": [
    "first_name= 'Subham'\n",
    "last_name= \" Panda\"\n",
    "print('NAME ',last_name,first_name)"
   ]
  },
  {
   "cell_type": "code",
   "execution_count": 17,
   "id": "e09e181e-b003-45b3-b7d8-97e2e2624ffa",
   "metadata": {},
   "outputs": [
    {
     "name": "stdout",
     "output_type": "stream",
     "text": [
      "My first name is  Subham and my last  name is   Panda\n"
     ]
    }
   ],
   "source": [
    "print(\"My first name is \", first_name ,\"and my last  name is \",last_name)"
   ]
  },
  {
   "cell_type": "code",
   "execution_count": 18,
   "id": "57977766-2608-40ae-bc52-4046300cf281",
   "metadata": {},
   "outputs": [
    {
     "name": "stdout",
     "output_type": "stream",
     "text": [
      "My first name is: Subham and my last  name is:  Panda\n"
     ]
    }
   ],
   "source": [
    "print(\"My first name is: {} and my last  name is: {}\".format(first_name,last_name))"
   ]
  },
  {
   "cell_type": "code",
   "execution_count": 20,
   "id": "bbbb614e-5f75-4c86-a01f-ef978a30852a",
   "metadata": {},
   "outputs": [
    {
     "name": "stdout",
     "output_type": "stream",
     "text": [
      "My first name is:  Panda and my last  name is:  Panda\n"
     ]
    }
   ],
   "source": [
    "print(\"My first name is: {first} and my last  name is: {first}\".format(last=last_name,first=last_name))"
   ]
  },
  {
   "cell_type": "code",
   "execution_count": 22,
   "id": "0c99a4a3-2e43-49c4-b7e2-64c0007beb27",
   "metadata": {},
   "outputs": [
    {
     "name": "stdout",
     "output_type": "stream",
     "text": [
      "bye subham bolo subham\n"
     ]
    }
   ],
   "source": [
    "print(\"bye {name} {hello} {name}\".format(name=\"subham\",hello='bolo'))"
   ]
  },
  {
   "cell_type": "code",
   "execution_count": 24,
   "id": "28354fb3-fdd8-44f1-b283-e70d2fb6e1e5",
   "metadata": {},
   "outputs": [
    {
     "name": "stdout",
     "output_type": "stream",
     "text": [
      "my name is subham, panda, and hello\n"
     ]
    }
   ],
   "source": [
    "print('my name is {}, {}, and {bolo}'.format('subham','panda',bolo='hello') )"
   ]
  },
  {
   "cell_type": "code",
   "execution_count": 28,
   "id": "dea3f81a-3e36-40bd-8f98-f5dff474437e",
   "metadata": {},
   "outputs": [
    {
     "name": "stdout",
     "output_type": "stream",
     "text": [
      "My name is :subham and my number is 200\n",
      "My name is :subham and my number is : 200\n",
      "\n"
     ]
    }
   ],
   "source": [
    "num=200\n",
    "name='subham'\n",
    "print(\"My name is :{one} and my number is {two}\".format(one=name,two=num))\n",
    "print(\"My name is :{} and my number is : {}\".format(name,num))\n",
    "print()"
   ]
  },
  {
   "cell_type": "code",
   "execution_count": null,
   "id": "cd74ae26-ce37-444d-8ad3-dc3fed729d8c",
   "metadata": {},
   "outputs": [],
   "source": []
  }
 ],
 "metadata": {
  "kernelspec": {
   "display_name": "Python 3 (ipykernel)",
   "language": "python",
   "name": "python3"
  },
  "language_info": {
   "codemirror_mode": {
    "name": "ipython",
    "version": 3
   },
   "file_extension": ".py",
   "mimetype": "text/x-python",
   "name": "python",
   "nbconvert_exporter": "python",
   "pygments_lexer": "ipython3",
   "version": "3.11.7"
  }
 },
 "nbformat": 4,
 "nbformat_minor": 5
}
