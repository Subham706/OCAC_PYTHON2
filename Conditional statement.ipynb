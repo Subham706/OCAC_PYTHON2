{
 "cells": [
  {
   "cell_type": "code",
   "execution_count": 1,
   "id": "35ac39f6-dd6e-4bdd-99eb-938d0804546b",
   "metadata": {},
   "outputs": [
    {
     "name": "stdout",
     "output_type": "stream",
     "text": [
      "hi!\n",
      "Shiva\n"
     ]
    }
   ],
   "source": [
    "if 1<2:\n",
    "    print('hi!')\n",
    "    print('Shiva')"
   ]
  },
  {
   "cell_type": "code",
   "execution_count": 2,
   "id": "ba21ca20-7b25-41fb-bc23-e85777dc86b6",
   "metadata": {},
   "outputs": [],
   "source": [
    "if 1>2:\n",
    "    print('hi!')"
   ]
  },
  {
   "cell_type": "code",
   "execution_count": 4,
   "id": "21ebf6c5-55bc-4a04-bcd2-f0ce94c57f1f",
   "metadata": {},
   "outputs": [],
   "source": [
    "if 1>2: \n",
    "    print('Hi!') \n",
    "    print(\"siva\") "
   ]
  },
  {
   "cell_type": "code",
   "execution_count": 5,
   "id": "6c1b5dee-67db-4f08-908f-a6c982fc9209",
   "metadata": {},
   "outputs": [
    {
     "name": "stdin",
     "output_type": "stream",
     "text": [
      "Enter Name : subham\n"
     ]
    },
    {
     "name": "stdout",
     "output_type": "stream",
     "text": [
      "hello subham good morning!\n"
     ]
    }
   ],
   "source": [
    "name=input('Enter Name :')\n",
    "if name=='subham' :\n",
    "    print('hello subham good morning!')"
   ]
  },
  {
   "cell_type": "code",
   "execution_count": 6,
   "id": "75939c4d-11cb-42cd-b668-dd2d01b794d3",
   "metadata": {},
   "outputs": [
    {
     "name": "stdout",
     "output_type": "stream",
     "text": [
      "first\n"
     ]
    }
   ],
   "source": [
    "#if-else Syntax\n",
    "if 1<2:\n",
    "    print('first')\n",
    "\n",
    "else:\n",
    "    print('last')"
   ]
  },
  {
   "cell_type": "code",
   "execution_count": 7,
   "id": "625fa587-4caf-48b9-9f7c-ec53a97f25a2",
   "metadata": {},
   "outputs": [
    {
     "name": "stdout",
     "output_type": "stream",
     "text": [
      "last\n"
     ]
    }
   ],
   "source": [
    "if 1>2:\n",
    "    print('first')\n",
    "\n",
    "else:\n",
    "    print('last')"
   ]
  },
  {
   "cell_type": "code",
   "execution_count": 10,
   "id": "cafca3ed-a367-4f17-a1a5-5d953ebcc375",
   "metadata": {},
   "outputs": [
    {
     "name": "stdin",
     "output_type": "stream",
     "text": [
      "enter a num 5\n"
     ]
    },
    {
     "name": "stdout",
     "output_type": "stream",
     "text": [
      "5 is odd\n"
     ]
    }
   ],
   "source": [
    "# even and odd question\n",
    "a=int(input('enter a num'))\n",
    "if (a%2==0) :\n",
    "    print (a,'is even')\n",
    "\n",
    "else:\n",
    "    print(a,'is odd')"
   ]
  },
  {
   "cell_type": "code",
   "execution_count": 12,
   "id": "5c3c5cb0-e69f-4530-af85-b59bbb2ad81b",
   "metadata": {},
   "outputs": [
    {
     "name": "stdout",
     "output_type": "stream",
     "text": [
      "Good morning bhaiya\n"
     ]
    }
   ],
   "source": [
    "# keyword 'in' is used to test if an item is in list\n",
    "lst=[20,55,40,'subham','panda']\n",
    "if 'panda' in lst :\n",
    "    print(\"Good morning bhaiya\")\n",
    "\n",
    "else:\n",
    "    print(\" bye bhaiya\")"
   ]
  },
  {
   "cell_type": "code",
   "execution_count": 13,
   "id": "9ca8e9bd-a817-4700-9425-5db58b2cc686",
   "metadata": {},
   "outputs": [
    {
     "name": "stdin",
     "output_type": "stream",
     "text": [
      "enter a num to check positive oe negative 35\n"
     ]
    },
    {
     "name": "stdout",
     "output_type": "stream",
     "text": [
      "num is +ve\n"
     ]
    }
   ],
   "source": [
    "# given num is positive or negative \n",
    "num=int(input('enter a num to check positive oe negative'))\n",
    "if (num>0):\n",
    "    print(\"num is +ve\")\n",
    "\n",
    "else:\n",
    "    print('num is -ve')\n",
    "    "
   ]
  },
  {
   "cell_type": "code",
   "execution_count": 21,
   "id": "7f60792e-56a7-4d13-a8bf-f9597c6195e4",
   "metadata": {},
   "outputs": [
    {
     "name": "stdout",
     "output_type": "stream",
     "text": [
      "Subham \n"
     ]
    }
   ],
   "source": [
    "# if - elif-else statement \n",
    "if 2==2 :\n",
    "    print (\"Subham \")\n",
    "elif 3==3:\n",
    "    print('Panda')"
   ]
  },
  {
   "cell_type": "code",
   "execution_count": 23,
   "id": "780d214f-d3ba-4297-9c1c-db16f0419200",
   "metadata": {},
   "outputs": [
    {
     "name": "stdin",
     "output_type": "stream",
     "text": [
      "enter yor percentage 50\n"
     ]
    },
    {
     "name": "stdout",
     "output_type": "stream",
     "text": [
      "GRADE C\n"
     ]
    }
   ],
   "source": [
    "# Grade question \n",
    "Y=int(input('enter yor percentage'))\n",
    "if (Y >= 90 ) :\n",
    "    print('GRADE A')\n",
    "\n",
    "elif (Y>= 60 ):\n",
    "    print('GRADE B')\n",
    "elif (Y>= 40 ):\n",
    "    print('GRADE C')\n",
    "\n",
    "else :\n",
    "    print('FAIL')\n"
   ]
  },
  {
   "cell_type": "code",
   "execution_count": 24,
   "id": "073f0cf7-f259-4cc9-8438-7098ae81bf86",
   "metadata": {},
   "outputs": [
    {
     "name": "stdout",
     "output_type": "stream",
     "text": [
      "i am baklol\n"
     ]
    }
   ],
   "source": [
    "x =  -67\n",
    "if ((x>0)or(x== -100)):\\\n",
    "    print ('print i am fool ')\n",
    "\n",
    "elif x<100:\n",
    "    print('i am baklol')\n",
    "\n",
    "else :\n",
    "    print('x is zero ')\n",
    "    "
   ]
  },
  {
   "cell_type": "code",
   "execution_count": 25,
   "id": "1c36d88a-3651-46c3-8acc-c5993aad0694",
   "metadata": {},
   "outputs": [
    {
     "name": "stdout",
     "output_type": "stream",
     "text": [
      "negative\n",
      "i am out of if block\n"
     ]
    }
   ],
   "source": [
    "x= -20\n",
    "\n",
    "if x>0 :\n",
    "    print ('positive')\n",
    "    print('hello')\n",
    "\n",
    "elif x==0:\n",
    "    print('Zero')\n",
    "\n",
    "else :\n",
    "    print('negative')\n",
    "\n",
    "print('i am out of if block')"
   ]
  },
  {
   "cell_type": "code",
   "execution_count": 26,
   "id": "f665aad7-75f6-434c-a2f2-43d45192e6a4",
   "metadata": {},
   "outputs": [
    {
     "name": "stdin",
     "output_type": "stream",
     "text": [
      "ENTER YOUR FAVO. BRAND RC\n"
     ]
    },
    {
     "name": "stdout",
     "output_type": "stream",
     "text": [
      "It is childrens brand\n"
     ]
    }
   ],
   "source": [
    "brand = input('ENTER YOUR FAVO. BRAND')\n",
    "if brand == 'RC' :\n",
    "    print('It is childrens brand')\n",
    "\n",
    "elif brand == \"KF\" :\n",
    "    print('it is not that much kick ')\n",
    "\n",
    "elif brand == \"RC\" :\n",
    "    print(\"it is brand \")\n",
    "\n",
    "else :\n",
    "    print('other brands are not recommended ')\n",
    "    "
   ]
  },
  {
   "cell_type": "code",
   "execution_count": 27,
   "id": "24595927-b284-4a37-aeb1-3eaa88a7141f",
   "metadata": {},
   "outputs": [
    {
     "name": "stdin",
     "output_type": "stream",
     "text": [
      "enter marks : 55\n"
     ]
    },
    {
     "name": "stdout",
     "output_type": "stream",
     "text": [
      "55 E grade\n"
     ]
    }
   ],
   "source": [
    "# grade based question \n",
    "a=int(float(input('enter marks :')))\n",
    "\n",
    "if (a>85 and a <= 100 ) :\n",
    "    print(a,'A grade')\n",
    "\n",
    "elif (a<= 85 and a>75 ):\n",
    "    print (a,'B grade')\n",
    "\n",
    "elif (a<=75 and a>65):\n",
    "    print(a,'C grade')\n",
    "\n",
    "elif (a<= 65 and a>55):\n",
    "    print(a,'D garde ')\n",
    "\n",
    "elif(a<=55 and a>45):\n",
    "    print(a,'E grade')\n",
    "\n",
    "else :\n",
    "    print('FAIL')\n",
    "    "
   ]
  },
  {
   "cell_type": "code",
   "execution_count": 28,
   "id": "0094556a-7eb3-4076-9fa9-9cdb28a56d01",
   "metadata": {},
   "outputs": [
    {
     "name": "stdin",
     "output_type": "stream",
     "text": [
      "enter num 1 20\n",
      "enter num 2 30\n"
     ]
    },
    {
     "name": "stdout",
     "output_type": "stream",
     "text": [
      "30 is greater\n"
     ]
    }
   ],
   "source": [
    "n=int(input('enter num 1'))\n",
    "n1=int(input('enter num 2'))\n",
    "if n>n1 :\n",
    "    print(n,'is greater ')\n",
    "\n",
    "elif n==n1 :\n",
    "    print('n is equal with n1')\n",
    "else :\n",
    "    print(n1,'is greater')"
   ]
  },
  {
   "cell_type": "code",
   "execution_count": 29,
   "id": "3070a396-b038-49ca-a330-321c49cee8fc",
   "metadata": {},
   "outputs": [
    {
     "name": "stdin",
     "output_type": "stream",
     "text": [
      "enter num 1 10\n",
      "enter num 2 20\n",
      "enter num 3 30\n"
     ]
    },
    {
     "name": "stdout",
     "output_type": "stream",
     "text": [
      "30 is greater\n"
     ]
    }
   ],
   "source": [
    "n=int(input('enter num 1'))\n",
    "n1=int(input('enter num 2'))\n",
    "n2=int(input('enter num 3'))\n",
    "if n>n1 and n>n2 :\n",
    "    print(n,'is greater ')\n",
    "\n",
    "elif n1>n2 :\n",
    "    print(n1,' is greater')\n",
    "else :\n",
    "    print(n2,'is greater')"
   ]
  },
  {
   "cell_type": "code",
   "execution_count": 34,
   "id": "0b55cb97-00ec-45d9-b277-95c9150d1321",
   "metadata": {},
   "outputs": [
    {
     "name": "stdin",
     "output_type": "stream",
     "text": [
      "enter first string  SUBHAM\n",
      "enter second string subham\n"
     ]
    },
    {
     "name": "stdout",
     "output_type": "stream",
     "text": [
      "first is less than second\n"
     ]
    }
   ],
   "source": [
    "s1 = input('enter first string ')\n",
    "s2 = input ('enter second string')\n",
    "if s1==s2 :\n",
    "    print ('both are equal ')\n",
    "\n",
    "elif s1<s2 :\n",
    "    print ('first is less than second')\n",
    "    \n",
    "else:\n",
    "    print('second is less than first')"
   ]
  },
  {
   "cell_type": "code",
   "execution_count": 35,
   "id": "c3b37691-dc5d-47b0-a4cc-2692a72bf810",
   "metadata": {},
   "outputs": [
    {
     "name": "stdout",
     "output_type": "stream",
     "text": [
      "Negative num\n"
     ]
    }
   ],
   "source": [
    "# Nested if statements\\\n",
    "num = 10 \n",
    "if num>= 0:\n",
    "    if num==0:\n",
    "        print('not')\n",
    "    else :\n",
    "        print('Negative num')\n",
    "\n",
    "else :\n",
    "    print('positive num ')\n",
    "    "
   ]
  },
  {
   "cell_type": "code",
   "execution_count": 36,
   "id": "9b949b84-5c9f-4222-80e8-88d99d895363",
   "metadata": {},
   "outputs": [
    {
     "name": "stdout",
     "output_type": "stream",
     "text": [
      "less than 3\n",
      "Fsdfsf\n"
     ]
    }
   ],
   "source": [
    "i = 2.1\n",
    "if (i<3):\n",
    "    print('less than 3')\n",
    "    if i>2 :\n",
    "        print('Fsdfsf')\n",
    "\n",
    "elif i<5 :\n",
    "    print('Less than 5 ')\n",
    "\n",
    "else :\n",
    "    print('5 or more ')"
   ]
  },
  {
   "cell_type": "code",
   "execution_count": 39,
   "id": "68cf9665-c8cd-4d05-9ba3-381e15fac32d",
   "metadata": {},
   "outputs": [
    {
     "name": "stdin",
     "output_type": "stream",
     "text": [
      "enter your pin 1234\n",
      "with draw amount : 30000\n"
     ]
    },
    {
     "name": "stdout",
     "output_type": "stream",
     "text": [
      "30000 not sufficient funds\n"
     ]
    }
   ],
   "source": [
    "# bank tranactional problem \n",
    "amount = 20000\n",
    "pin= 1234\n",
    "if(int(input('enter your pin'))==1234):\n",
    "    with_draw=int(input('with draw amount :'))\n",
    "    if(with_draw<=amount):\n",
    "        print(with_draw,'Successfully transaction completed')\n",
    "    else :\n",
    "        print(with_draw,'not sufficient funds')\n",
    "\n",
    "else:\n",
    "    print('invalid pin ')\n",
    "\n"
   ]
  },
  {
   "cell_type": "code",
   "execution_count": null,
   "id": "55ca4304-13c0-4466-9fcd-307487dd8b5b",
   "metadata": {},
   "outputs": [],
   "source": []
  },
  {
   "cell_type": "code",
   "execution_count": null,
   "id": "f1a25d72-b5d5-424e-a86d-d0dc1fa4e9c4",
   "metadata": {},
   "outputs": [],
   "source": []
  }
 ],
 "metadata": {
  "kernelspec": {
   "display_name": "Python 3 (ipykernel)",
   "language": "python",
   "name": "python3"
  },
  "language_info": {
   "codemirror_mode": {
    "name": "ipython",
    "version": 3
   },
   "file_extension": ".py",
   "mimetype": "text/x-python",
   "name": "python",
   "nbconvert_exporter": "python",
   "pygments_lexer": "ipython3",
   "version": "3.11.7"
  }
 },
 "nbformat": 4,
 "nbformat_minor": 5
}
