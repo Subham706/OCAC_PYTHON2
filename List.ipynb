{
 "cells": [
  {
   "cell_type": "code",
   "execution_count": 2,
   "id": "7e3fbe44-a650-4163-ac38-4fc4907ef3d8",
   "metadata": {},
   "outputs": [],
   "source": [
    "A =[ 1,3,\"subham\",[1,3,\"suman\"]]"
   ]
  },
  {
   "cell_type": "code",
   "execution_count": 3,
   "id": "da98422d-437c-40b2-a4bd-23b78ed32c87",
   "metadata": {},
   "outputs": [
    {
     "name": "stdout",
     "output_type": "stream",
     "text": [
      "[1, 3, 'subham', [1, 3, 'suman']]\n"
     ]
    }
   ],
   "source": [
    "print(A)"
   ]
  },
  {
   "cell_type": "code",
   "execution_count": 4,
   "id": "304b4b27-d04c-41bb-bc16-f7d17276f231",
   "metadata": {},
   "outputs": [
    {
     "data": {
      "text/plain": [
       "list"
      ]
     },
     "execution_count": 4,
     "metadata": {},
     "output_type": "execute_result"
    }
   ],
   "source": [
    "type(A)"
   ]
  },
  {
   "cell_type": "code",
   "execution_count": 5,
   "id": "2e5b3730-8e01-4abb-98ec-a3b678c85aef",
   "metadata": {},
   "outputs": [
    {
     "name": "stdout",
     "output_type": "stream",
     "text": [
      "<class 'list'>\n"
     ]
    }
   ],
   "source": [
    "print(type(A))"
   ]
  },
  {
   "cell_type": "code",
   "execution_count": 6,
   "id": "189c66f8-d8e8-41a1-86d6-fe9880edbd54",
   "metadata": {},
   "outputs": [
    {
     "name": "stdout",
     "output_type": "stream",
     "text": [
      "4\n"
     ]
    }
   ],
   "source": [
    "print(len(A))"
   ]
  },
  {
   "cell_type": "code",
   "execution_count": 9,
   "id": "791d0c7f-065d-4643-ba17-743d1bb7878b",
   "metadata": {},
   "outputs": [
    {
     "name": "stdout",
     "output_type": "stream",
     "text": [
      "3\n"
     ]
    }
   ],
   "source": [
    "print(A[3][1])"
   ]
  },
  {
   "cell_type": "code",
   "execution_count": 20,
   "id": "b077cf11-4012-42e6-a629-4a860caa1b80",
   "metadata": {},
   "outputs": [
    {
     "name": "stdout",
     "output_type": "stream",
     "text": [
      "4\n"
     ]
    }
   ],
   "source": [
    "A[3][1]=4\n",
    "print(A[3][1])"
   ]
  },
  {
   "cell_type": "code",
   "execution_count": 18,
   "id": "79ec40f2-e21c-4109-b2f9-12b515a39e0a",
   "metadata": {},
   "outputs": [
    {
     "data": {
      "text/plain": [
       "[2, 3, 4, [6, 3, 4, 'subham', ['panda', 55, 65]]]"
      ]
     },
     "execution_count": 18,
     "metadata": {},
     "output_type": "execute_result"
    }
   ],
   "source": [
    "nest=[2,3,4,[6,3,4,\"subham\",['panda',55,65]]]\n",
    "nest"
   ]
  },
  {
   "cell_type": "code",
   "execution_count": 23,
   "id": "5df83790-1023-4dfa-8373-9fbb3c51469e",
   "metadata": {},
   "outputs": [
    {
     "name": "stdout",
     "output_type": "stream",
     "text": [
      "[20, 30, 5, 'subhu', 0, '33']\n"
     ]
    }
   ],
   "source": [
    "l1=[20,30,5,'subhu',0]\n",
    "l2=[45,65]\n",
    "l1+l2\n",
    "l1.append('33')\n",
    "print(l1)"
   ]
  },
  {
   "cell_type": "code",
   "execution_count": 27,
   "id": "3bd3a3f9-7d6f-4c06-a8d6-82c012ebd243",
   "metadata": {},
   "outputs": [
    {
     "name": "stdout",
     "output_type": "stream",
     "text": [
      "[20, 30, 5, 'subhu', 0, '33', 55, 665, 323, 55, 665, 323]\n"
     ]
    }
   ],
   "source": [
    "l1.extend([55,665,323])\n",
    "print(l1)"
   ]
  },
  {
   "cell_type": "code",
   "execution_count": 26,
   "id": "2ce63bb0-2bc5-4a11-aa1c-acae2ee9bf60",
   "metadata": {},
   "outputs": [
    {
     "name": "stdout",
     "output_type": "stream",
     "text": [
      "[20, 30, 5, 'subhu', 0, '33', 55, 665, 323, 45, 65]\n"
     ]
    }
   ],
   "source": [
    "print(l1+l2)"
   ]
  },
  {
   "cell_type": "code",
   "execution_count": 32,
   "id": "6989be0f-00ce-444d-a740-e7aa12533e93",
   "metadata": {},
   "outputs": [
    {
     "name": "stdout",
     "output_type": "stream",
     "text": [
      "['one', 1, 'two', 'four']\n"
     ]
    }
   ],
   "source": [
    "#insert\n",
    "#list.insert(x,y)-will add element y at location x\n",
    "lst = [\"one\",\"two\",\"four\"]\n",
    "lst.insert(1,1)\n",
    "print(lst)"
   ]
  },
  {
   "cell_type": "code",
   "execution_count": 33,
   "id": "cde7ab2f-d1fa-4cb4-b003-425f5b7543c1",
   "metadata": {},
   "outputs": [
    {
     "name": "stdin",
     "output_type": "stream",
     "text": [
      "Enter a list of strings, separated by spaces:  10,22,3,31,2,21,2\n"
     ]
    },
    {
     "name": "stdout",
     "output_type": "stream",
     "text": [
      "List of strings: ['10,22,3,31,2,21,2']\n"
     ]
    }
   ],
   "source": [
    "# Taking a list of strings input\n",
    "input_string = input(\"Enter a list of strings, separated by spaces: \")\n",
    "string_list = input_string.split() \n",
    "print(\"List of strings:\", string_list)\n",
    "count\n",
    "if a\n",
    "\n"
   ]
  },
  {
   "cell_type": "code",
   "execution_count": 34,
   "id": "94dd8d8c-91e5-444e-9690-b01a9c76a199",
   "metadata": {},
   "outputs": [
    {
     "name": "stdout",
     "output_type": "stream",
     "text": [
      "Original list: [1, 2, 2, 3, 4, 4, 5, 6, 7, 7, 8, 9]\n",
      "List after removing repeating numbers: [1, 3, 5, 6, 8, 9]\n"
     ]
    }
   ],
   "source": [
    "\n",
    "original_list = [1, 2, 2, 3, 4, 4, 5, 6, 7, 7, 8, 9]\n",
    "\n",
    "count_dict = {}\n",
    "for number in original_list:\n",
    "    if number in count_dict:\n",
    "        count_dict[number] += 1\n",
    "    else:\n",
    "        count_dict[number]=1\n",
    "unique_list = [number for number in original_list if count_dict[number] == 1]\n",
    "\n",
    "print(\"Original list:\", original_list)\n",
    "print(\"List after removing repeating numbers:\", unique_list)\n"
   ]
  },
  {
   "cell_type": "code",
   "execution_count": 36,
   "id": "cd581bb4-709e-4b8e-a7d3-88d9fac8858e",
   "metadata": {},
   "outputs": [
    {
     "name": "stdout",
     "output_type": "stream",
     "text": [
      "{33, 20}\n"
     ]
    }
   ],
   "source": [
    "set ={ 10,20,33}\n",
    "set.discard(10)\n",
    "print(set)"
   ]
  },
  {
   "cell_type": "code",
   "execution_count": 40,
   "id": "37a63cb2-01e5-46ff-99ce-d9b81fca79a5",
   "metadata": {},
   "outputs": [
    {
     "ename": "TypeError",
     "evalue": "set.remove() takes exactly one argument (2 given)",
     "output_type": "error",
     "traceback": [
      "\u001b[1;31m---------------------------------------------------------------------------\u001b[0m",
      "\u001b[1;31mTypeError\u001b[0m                                 Traceback (most recent call last)",
      "Cell \u001b[1;32mIn[40], line 1\u001b[0m\n\u001b[1;32m----> 1\u001b[0m \u001b[38;5;28mset\u001b[39m\u001b[38;5;241m.\u001b[39mremove(\u001b[38;5;241m20\u001b[39m,\u001b[38;5;241m33\u001b[39m)\n",
      "\u001b[1;31mTypeError\u001b[0m: set.remove() takes exactly one argument (2 given)"
     ]
    }
   ],
   "source": [
    "set.remove(2033)"
   ]
  },
  {
   "cell_type": "code",
   "execution_count": 38,
   "id": "df6ee3d8-435c-4139-a256-3de13aa5177f",
   "metadata": {},
   "outputs": [
    {
     "name": "stdout",
     "output_type": "stream",
     "text": [
      "{33}\n"
     ]
    }
   ],
   "source": [
    "print(set)"
   ]
  },
  {
   "cell_type": "code",
   "execution_count": 4,
   "id": "c35e83fb-7255-4de3-9827-29346cc89bf4",
   "metadata": {},
   "outputs": [
    {
     "name": "stdout",
     "output_type": "stream",
     "text": [
      "[]\n"
     ]
    }
   ],
   "source": [
    "#nodup\n",
    "data=[20,20,40,30,50,70,50,40,80,100]\n",
    "\n",
    "def remove_duplicate(duplist):\n",
    "    noduplist=[]\n",
    "    for element in duplist:\n",
    "        if element not in duplist:\n",
    "            noduplist.append(element)\n",
    "    return(noduplist)\n",
    "print(remove_duplicate(data))\n"
   ]
  },
  {
   "cell_type": "code",
   "execution_count": null,
   "id": "94a6eb51-862b-4009-8cbc-8df2b0352b06",
   "metadata": {},
   "outputs": [],
   "source": []
  }
 ],
 "metadata": {
  "kernelspec": {
   "display_name": "Python 3 (ipykernel)",
   "language": "python",
   "name": "python3"
  },
  "language_info": {
   "codemirror_mode": {
    "name": "ipython",
    "version": 3
   },
   "file_extension": ".py",
   "mimetype": "text/x-python",
   "name": "python",
   "nbconvert_exporter": "python",
   "pygments_lexer": "ipython3",
   "version": "3.11.7"
  }
 },
 "nbformat": 4,
 "nbformat_minor": 5
}
