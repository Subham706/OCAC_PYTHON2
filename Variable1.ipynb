{
 "cells": [
  {
   "cell_type": "code",
   "execution_count": 2,
   "id": "c962990a-eeea-4913-a2bf-51277862193f",
   "metadata": {},
   "outputs": [
    {
     "data": {
      "text/plain": [
       "' SUBHAM '"
      ]
     },
     "execution_count": 2,
     "metadata": {},
     "output_type": "execute_result"
    }
   ],
   "source": [
    "a =' SUBHAM '\n",
    "a"
   ]
  },
  {
   "cell_type": "code",
   "execution_count": 3,
   "id": "62cdbf1b-bf67-4128-934c-4dc0ee9f1656",
   "metadata": {},
   "outputs": [
    {
     "ename": "NameError",
     "evalue": "name 'b' is not defined",
     "output_type": "error",
     "traceback": [
      "\u001b[1;31m---------------------------------------------------------------------------\u001b[0m",
      "\u001b[1;31mNameError\u001b[0m                                 Traceback (most recent call last)",
      "Cell \u001b[1;32mIn[3], line 1\u001b[0m\n\u001b[1;32m----> 1\u001b[0m \u001b[38;5;28mprint\u001b[39m(b)\n",
      "\u001b[1;31mNameError\u001b[0m: name 'b' is not defined"
     ]
    }
   ],
   "source": [
    "print(b)"
   ]
  },
  {
   "cell_type": "code",
   "execution_count": 4,
   "id": "e8f67616-c798-4e13-8345-da420d85ca1e",
   "metadata": {},
   "outputs": [
    {
     "data": {
      "text/plain": [
       "50"
      ]
     },
     "execution_count": 4,
     "metadata": {},
     "output_type": "execute_result"
    }
   ],
   "source": [
    "#Single variable assignment\n",
    "b = 50\n",
    "b"
   ]
  },
  {
   "cell_type": "code",
   "execution_count": 5,
   "id": "22dadf26-0396-47e0-ad66-8e5fa3a6e34b",
   "metadata": {},
   "outputs": [
    {
     "data": {
      "text/plain": [
       "int"
      ]
     },
     "execution_count": 5,
     "metadata": {},
     "output_type": "execute_result"
    }
   ],
   "source": [
    "type(b)"
   ]
  },
  {
   "cell_type": "code",
   "execution_count": 7,
   "id": "528cf15a-73e9-45aa-8a4c-e192dc905764",
   "metadata": {},
   "outputs": [
    {
     "data": {
      "text/plain": [
       "' Panda'"
      ]
     },
     "execution_count": 7,
     "metadata": {},
     "output_type": "execute_result"
    }
   ],
   "source": [
    "d =' Panda'\n",
    "d"
   ]
  },
  {
   "cell_type": "code",
   "execution_count": 9,
   "id": "2302d7f0-8ea3-4215-bf41-82ee5a5bee22",
   "metadata": {},
   "outputs": [
    {
     "data": {
      "text/plain": [
       "70"
      ]
     },
     "execution_count": 9,
     "metadata": {},
     "output_type": "execute_result"
    }
   ],
   "source": [
    "c = 70\n",
    "c"
   ]
  },
  {
   "cell_type": "code",
   "execution_count": 11,
   "id": "3d017a22-0fc1-471a-aa8f-2885d1e1f8a5",
   "metadata": {},
   "outputs": [
    {
     "data": {
      "text/plain": [
       "str"
      ]
     },
     "execution_count": 11,
     "metadata": {},
     "output_type": "execute_result"
    }
   ],
   "source": [
    "type(d)"
   ]
  },
  {
   "cell_type": "code",
   "execution_count": 13,
   "id": "dc655968-ae70-4882-9f98-da48de6743c2",
   "metadata": {},
   "outputs": [
    {
     "data": {
      "text/plain": [
       "'960a'"
      ]
     },
     "execution_count": 13,
     "metadata": {},
     "output_type": "execute_result"
    }
   ],
   "source": [
    "e = \"960a\"\n",
    "e"
   ]
  },
  {
   "cell_type": "code",
   "execution_count": 14,
   "id": "b95c9b72-dc29-4468-9801-27de7e4e3e43",
   "metadata": {},
   "outputs": [
    {
     "data": {
      "text/plain": [
       "str"
      ]
     },
     "execution_count": 14,
     "metadata": {},
     "output_type": "execute_result"
    }
   ],
   "source": [
    "type(e)"
   ]
  },
  {
   "cell_type": "code",
   "execution_count": 15,
   "id": "14424225-53ed-47f2-908c-2b5d6f54f1de",
   "metadata": {},
   "outputs": [
    {
     "name": "stdout",
     "output_type": "stream",
     "text": [
      "['False', 'None', 'True', 'and', 'as', 'assert', 'async', 'await', 'break', 'class', 'continue', 'def', 'del', 'elif', 'else', 'except', 'finally', 'for', 'from', 'global', 'if', 'import', 'in', 'is', 'lambda', 'nonlocal', 'not', 'or', 'pass', 'raise', 'return', 'try', 'while', 'with', 'yield']\n"
     ]
    }
   ],
   "source": [
    "import keyword\n",
    "print(keyword.kwlist)"
   ]
  },
  {
   "cell_type": "code",
   "execution_count": 16,
   "id": "2d68d893-97de-405d-b8d1-c4d3e5a0447b",
   "metadata": {},
   "outputs": [
    {
     "data": {
      "text/plain": [
       "35"
      ]
     },
     "execution_count": 16,
     "metadata": {},
     "output_type": "execute_result"
    }
   ],
   "source": [
    "len(keyword.kwlist)"
   ]
  },
  {
   "cell_type": "code",
   "execution_count": 17,
   "id": "4e634e56-0b13-4974-b974-5fe28e6264eb",
   "metadata": {},
   "outputs": [
    {
     "ename": "SyntaxError",
     "evalue": "cannot assign to False (2502579187.py, line 1)",
     "output_type": "error",
     "traceback": [
      "\u001b[1;36m  Cell \u001b[1;32mIn[17], line 1\u001b[1;36m\u001b[0m\n\u001b[1;33m    False = \"7863\"\u001b[0m\n\u001b[1;37m    ^\u001b[0m\n\u001b[1;31mSyntaxError\u001b[0m\u001b[1;31m:\u001b[0m cannot assign to False\n"
     ]
    }
   ],
   "source": [
    "False = \"7863\"\n",
    "False"
   ]
  },
  {
   "cell_type": "code",
   "execution_count": 18,
   "id": "03a2aeee-18c1-40cc-a84c-e5843a684478",
   "metadata": {},
   "outputs": [
    {
     "data": {
      "text/plain": [
       "50"
      ]
     },
     "execution_count": 18,
     "metadata": {},
     "output_type": "execute_result"
    }
   ],
   "source": [
    "b3 = 50\n",
    "b3"
   ]
  },
  {
   "cell_type": "code",
   "execution_count": 21,
   "id": "26122a07-e3c8-4a86-a6f5-0da17cf681e4",
   "metadata": {},
   "outputs": [
    {
     "ename": "SyntaxError",
     "evalue": "invalid decimal literal (466779400.py, line 1)",
     "output_type": "error",
     "traceback": [
      "\u001b[1;36m  Cell \u001b[1;32mIn[21], line 1\u001b[1;36m\u001b[0m\n\u001b[1;33m    1b = 90\u001b[0m\n\u001b[1;37m    ^\u001b[0m\n\u001b[1;31mSyntaxError\u001b[0m\u001b[1;31m:\u001b[0m invalid decimal literal\n"
     ]
    }
   ],
   "source": [
    "1b = 90\n",
    "1b"
   ]
  },
  {
   "cell_type": "code",
   "execution_count": 22,
   "id": "8f2782f1-29bd-4cb1-a5d9-844b56030ee2",
   "metadata": {},
   "outputs": [
    {
     "ename": "SyntaxError",
     "evalue": "invalid syntax (4215880195.py, line 1)",
     "output_type": "error",
     "traceback": [
      "\u001b[1;36m  Cell \u001b[1;32mIn[22], line 1\u001b[1;36m\u001b[0m\n\u001b[1;33m    b$7 = 90\u001b[0m\n\u001b[1;37m     ^\u001b[0m\n\u001b[1;31mSyntaxError\u001b[0m\u001b[1;31m:\u001b[0m invalid syntax\n"
     ]
    }
   ],
   "source": [
    "b$7 = 90\n",
    "b$7"
   ]
  },
  {
   "cell_type": "code",
   "execution_count": 24,
   "id": "acb62b51-f364-4086-a02f-052c624bae22",
   "metadata": {},
   "outputs": [
    {
     "data": {
      "text/plain": [
       "55"
      ]
     },
     "execution_count": 24,
     "metadata": {},
     "output_type": "execute_result"
    }
   ],
   "source": [
    "b_7 = 55\n",
    "b_7"
   ]
  },
  {
   "cell_type": "code",
   "execution_count": 25,
   "id": "f47e799b-2324-4c77-904a-13552317ae3f",
   "metadata": {},
   "outputs": [
    {
     "data": {
      "text/plain": [
       "140720611707368"
      ]
     },
     "execution_count": 25,
     "metadata": {},
     "output_type": "execute_result"
    }
   ],
   "source": [
    "#Storagelocation\n",
    "id(b_7)"
   ]
  },
  {
   "cell_type": "code",
   "execution_count": 26,
   "id": "45754cde-ae38-403f-bde2-dfa63189807a",
   "metadata": {},
   "outputs": [
    {
     "data": {
      "text/plain": [
       "1251246905360"
      ]
     },
     "execution_count": 26,
     "metadata": {},
     "output_type": "execute_result"
    }
   ],
   "source": [
    "v = 504\n",
    "v\n",
    "id(v)"
   ]
  },
  {
   "cell_type": "code",
   "execution_count": 27,
   "id": "463acc9f-cf58-4a63-adc8-873f741bf9a1",
   "metadata": {},
   "outputs": [
    {
     "data": {
      "text/plain": [
       "1251246901520"
      ]
     },
     "execution_count": 27,
     "metadata": {},
     "output_type": "execute_result"
    }
   ],
   "source": [
    "v = 503\n",
    "id(v)"
   ]
  },
  {
   "cell_type": "code",
   "execution_count": 28,
   "id": "a317e0b1-ef9f-4901-8edb-3dbb000d746c",
   "metadata": {},
   "outputs": [
    {
     "data": {
      "text/plain": [
       "140720611708072"
      ]
     },
     "execution_count": 28,
     "metadata": {},
     "output_type": "execute_result"
    }
   ],
   "source": [
    "b = 77\n",
    "c = 87\n",
    "id(b)"
   ]
  },
  {
   "cell_type": "code",
   "execution_count": 29,
   "id": "0a512702-f78c-4895-9d6e-83e761d30213",
   "metadata": {},
   "outputs": [
    {
     "data": {
      "text/plain": [
       "140720611708392"
      ]
     },
     "execution_count": 29,
     "metadata": {},
     "output_type": "execute_result"
    }
   ],
   "source": [
    "id(c)"
   ]
  },
  {
   "cell_type": "code",
   "execution_count": 30,
   "id": "0ecc8a60-e0cb-4a65-a9a9-a456986ea968",
   "metadata": {},
   "outputs": [
    {
     "data": {
      "text/plain": [
       "140720611707272"
      ]
     },
     "execution_count": 30,
     "metadata": {},
     "output_type": "execute_result"
    }
   ],
   "source": [
    "d = 52\n",
    "id(d)"
   ]
  },
  {
   "cell_type": "code",
   "execution_count": 31,
   "id": "97ae866e-c5bb-466a-ab90-886b8b4363c5",
   "metadata": {},
   "outputs": [
    {
     "name": "stdout",
     "output_type": "stream",
     "text": [
      "The summation of two numbers are  89\n"
     ]
    }
   ],
   "source": [
    "a = 34\n",
    "b = 55\n",
    "sum = a+b\n",
    "print(\"The summation of two numbers are \",sum)"
   ]
  },
  {
   "cell_type": "code",
   "execution_count": 32,
   "id": "b5d9e1a7-8db0-4a2f-a680-70af213a4910",
   "metadata": {},
   "outputs": [
    {
     "name": "stdout",
     "output_type": "stream",
     "text": [
      "The summation of two numbers are sum 110\n"
     ]
    }
   ],
   "source": [
    "a = 26\n",
    "b = 84\n",
    "sum= a+b\n",
    "print(\"The summation of two numbers are sum\", sum)"
   ]
  },
  {
   "cell_type": "code",
   "execution_count": 33,
   "id": "590150ec-4b0e-4f86-813d-e770c3b943ff",
   "metadata": {},
   "outputs": [
    {
     "data": {
      "text/plain": [
       "('The summation of two numbers are', 110)"
      ]
     },
     "execution_count": 33,
     "metadata": {},
     "output_type": "execute_result"
    }
   ],
   "source": [
    "\"The summation of two numbers are\",sum"
   ]
  },
  {
   "cell_type": "code",
   "execution_count": 34,
   "id": "dab12e6e-06c0-4d95-84cc-92453baf1289",
   "metadata": {},
   "outputs": [
    {
     "data": {
      "text/plain": [
       "110"
      ]
     },
     "execution_count": 34,
     "metadata": {},
     "output_type": "execute_result"
    }
   ],
   "source": [
    "sum"
   ]
  },
  {
   "cell_type": "code",
   "execution_count": 36,
   "id": "7c5e97e5-82f0-4ce7-96c7-498b295341de",
   "metadata": {},
   "outputs": [
    {
     "data": {
      "text/plain": [
       "90"
      ]
     },
     "execution_count": 36,
     "metadata": {},
     "output_type": "execute_result"
    }
   ],
   "source": [
    "a = b =c = 90\n",
    "a"
   ]
  },
  {
   "cell_type": "code",
   "execution_count": 37,
   "id": "5e7dd74b-67d3-4af8-82f1-686672d6a46d",
   "metadata": {},
   "outputs": [
    {
     "data": {
      "text/plain": [
       "90"
      ]
     },
     "execution_count": 37,
     "metadata": {},
     "output_type": "execute_result"
    }
   ],
   "source": [
    "b"
   ]
  },
  {
   "cell_type": "code",
   "execution_count": 38,
   "id": "9a02cba2-54d8-4990-bf2b-e0d9e571f6ee",
   "metadata": {},
   "outputs": [
    {
     "data": {
      "text/plain": [
       "90"
      ]
     },
     "execution_count": 38,
     "metadata": {},
     "output_type": "execute_result"
    }
   ],
   "source": [
    "c"
   ]
  },
  {
   "cell_type": "code",
   "execution_count": 40,
   "id": "5aed6265-f236-4bc2-b836-778d29e335d0",
   "metadata": {},
   "outputs": [
    {
     "name": "stdout",
     "output_type": "stream",
     "text": [
      "55 43 34\n"
     ]
    }
   ],
   "source": [
    "a= 55\n",
    "b = 43\n",
    "c = 34\n",
    "abc = 443\n",
    "print(a,b,c)"
   ]
  },
  {
   "cell_type": "code",
   "execution_count": 41,
   "id": "7dfd4046-3be4-4132-a8e6-aa225c4dbca6",
   "metadata": {},
   "outputs": [
    {
     "name": "stdout",
     "output_type": "stream",
     "text": [
      "443\n"
     ]
    }
   ],
   "source": [
    "print(abc)"
   ]
  },
  {
   "cell_type": "code",
   "execution_count": 43,
   "id": "aca1c949-e776-4bca-b8ba-8e20d2f23afb",
   "metadata": {},
   "outputs": [
    {
     "name": "stdout",
     "output_type": "stream",
     "text": [
      "56\n"
     ]
    }
   ],
   "source": [
    "a = 56\n",
    "print(a)"
   ]
  },
  {
   "cell_type": "code",
   "execution_count": 44,
   "id": "bd23b3df-b622-402d-a845-842722504211",
   "metadata": {},
   "outputs": [],
   "source": [
    "#Delete Element\n",
    "del(a)"
   ]
  },
  {
   "cell_type": "code",
   "execution_count": 45,
   "id": "b0a73b06-87bd-40cb-87ff-1e419151143e",
   "metadata": {},
   "outputs": [
    {
     "ename": "NameError",
     "evalue": "name 'a' is not defined",
     "output_type": "error",
     "traceback": [
      "\u001b[1;31m---------------------------------------------------------------------------\u001b[0m",
      "\u001b[1;31mNameError\u001b[0m                                 Traceback (most recent call last)",
      "Cell \u001b[1;32mIn[45], line 1\u001b[0m\n\u001b[1;32m----> 1\u001b[0m \u001b[38;5;28mprint\u001b[39m(a)\n",
      "\u001b[1;31mNameError\u001b[0m: name 'a' is not defined"
     ]
    }
   ],
   "source": [
    "print(a)"
   ]
  },
  {
   "cell_type": "code",
   "execution_count": 46,
   "id": "b8f6f955-ab79-4549-b399-ce546b7c5a3d",
   "metadata": {},
   "outputs": [],
   "source": [
    "# to cLear variable explorer.\n",
    "a=10\n",
    "b=20\n",
    "c=30\n",
    "del a,b"
   ]
  },
  {
   "cell_type": "code",
   "execution_count": 47,
   "id": "988c83a0-d2c0-4862-92b1-7bb947a73d75",
   "metadata": {},
   "outputs": [
    {
     "name": "stdout",
     "output_type": "stream",
     "text": [
      "30\n"
     ]
    }
   ],
   "source": [
    "print(c)"
   ]
  },
  {
   "cell_type": "code",
   "execution_count": 49,
   "id": "a0e87baa-3ed0-42f5-9393-df2bf4afdd03",
   "metadata": {},
   "outputs": [
    {
     "ename": "SyntaxError",
     "evalue": "invalid decimal literal (2270511040.py, line 1)",
     "output_type": "error",
     "traceback": [
      "\u001b[1;36m  Cell \u001b[1;32mIn[49], line 1\u001b[1;36m\u001b[0m\n\u001b[1;33m    1a= 88\u001b[0m\n\u001b[1;37m    ^\u001b[0m\n\u001b[1;31mSyntaxError\u001b[0m\u001b[1;31m:\u001b[0m invalid decimal literal\n"
     ]
    }
   ],
   "source": [
    "1a= 88"
   ]
  },
  {
   "cell_type": "code",
   "execution_count": 50,
   "id": "97cdba46-f658-4c66-8a6c-516f45fb2b8d",
   "metadata": {},
   "outputs": [
    {
     "ename": "SyntaxError",
     "evalue": "cannot assign to expression here. Maybe you meant '==' instead of '='? (1985635240.py, line 1)",
     "output_type": "error",
     "traceback": [
      "\u001b[1;36m  Cell \u001b[1;32mIn[50], line 1\u001b[1;36m\u001b[0m\n\u001b[1;33m    a@1= 70\u001b[0m\n\u001b[1;37m    ^\u001b[0m\n\u001b[1;31mSyntaxError\u001b[0m\u001b[1;31m:\u001b[0m cannot assign to expression here. Maybe you meant '==' instead of '='?\n"
     ]
    }
   ],
   "source": [
    "a@1= 70"
   ]
  },
  {
   "cell_type": "code",
   "execution_count": 51,
   "id": "11b95ee3-134e-4d59-af87-fddd0ee405b1",
   "metadata": {},
   "outputs": [
    {
     "name": "stdout",
     "output_type": "stream",
     "text": [
      "10 20 30\n"
     ]
    }
   ],
   "source": [
    "a=10\n",
    "b=20\n",
    "c=30\n",
    "print(a,b,c)"
   ]
  },
  {
   "cell_type": "code",
   "execution_count": 53,
   "id": "cfd72bfa-9017-48b1-9335-e9d05e1a8925",
   "metadata": {},
   "outputs": [
    {
     "name": "stdout",
     "output_type": "stream",
     "text": [
      "77 55 43\n"
     ]
    }
   ],
   "source": [
    "# we can asssign multiple variable in a single line\n",
    "a,b,c = 77,55,43\n",
    "print(a,b,c)"
   ]
  },
  {
   "cell_type": "code",
   "execution_count": 54,
   "id": "2bff31c7-371a-4f87-8089-bfc873d7038a",
   "metadata": {},
   "outputs": [
    {
     "name": "stdout",
     "output_type": "stream",
     "text": [
      "AI\n"
     ]
    }
   ],
   "source": [
    "# as s ign the same vaL ue to /r uL tip Le var i ab Les at once\n",
    "a = b = c = \"AI\"\n",
    "print(c)"
   ]
  },
  {
   "cell_type": "code",
   "execution_count": null,
   "id": "27c468f0-78db-44f7-896e-b93f6fc8737e",
   "metadata": {},
   "outputs": [],
   "source": []
  }
 ],
 "metadata": {
  "kernelspec": {
   "display_name": "Python 3 (ipykernel)",
   "language": "python",
   "name": "python3"
  },
  "language_info": {
   "codemirror_mode": {
    "name": "ipython",
    "version": 3
   },
   "file_extension": ".py",
   "mimetype": "text/x-python",
   "name": "python",
   "nbconvert_exporter": "python",
   "pygments_lexer": "ipython3",
   "version": "3.11.7"
  }
 },
 "nbformat": 4,
 "nbformat_minor": 5
}
